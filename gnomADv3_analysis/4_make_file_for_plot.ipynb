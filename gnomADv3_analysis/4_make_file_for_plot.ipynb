{
 "cells": [
  {
   "cell_type": "code",
   "execution_count": 2,
   "metadata": {},
   "outputs": [],
   "source": [
    "dic_group = {}\n",
    "with open(\"/mnt/project/exonhancer/ZENODO_REPO/Conservation_and_structure/summary_files/grouped_by_tf/ee_grouped_tf_hg\") as file:\n",
    "    for line in file:    \n",
    "        dic_group[line.strip().split(\"\\t\")[0]] = line.strip().split(\"\\t\")[1]\n",
    "\n",
    "size = {}\n",
    "with open(\"/mnt/project/exonhancer/ZENODO_REPO/EE_selection/summary_files/EE_summary_hg38.tsv\") as file:\n",
    "    for line in file:    \n",
    "        size[line.strip().split(\"\\t\")[3]] = line.strip().split(\"\\t\")[6]\n",
    "\n",
    "dic_gnomad = {}\n",
    "with open('/mnt/project/exonhancer/ZENODO_REPO/gnomAD_v3/3_raw_vcf/gnomad_nb_snp_ee.tsv') as file:\n",
    "    for line in file:    \n",
    "        dic_gnomad[(line.strip().split()[1]).replace('.vcf', '')] = line.strip().split()[0]"
   ]
  },
  {
   "cell_type": "code",
   "execution_count": 3,
   "metadata": {},
   "outputs": [],
   "source": [
    "import pandas as pd\n",
    "content = [[\"Exon\",\"GroupByTF\",\"Size\",\"gnomAD_SNPs\"]]\n",
    "with open(\"/mnt/project/exonhancer/ZENODO_REPO/EE_selection/hg38_EE.bed\") as file:\n",
    "    for line in file:    \n",
    "        exon = line.strip().split()[3]\n",
    "        \n",
    "        try:\n",
    "            gnomad = dic_gnomad[exon]\n",
    "        except KeyError:\n",
    "            gnomad = \"NA\"\n",
    "\n",
    "        content.append([exon, dic_group[exon], size[exon], gnomad])\n",
    "        \n",
    "df = pd.DataFrame(content)\n",
    "df.to_csv(\"/mnt/project/exonhancer/ZENODO_REPO/gnomAD_v3/3_raw_vcf/ee_gnomad_count_hg38.tsv\",sep=\"\\t\",header=False,index=False)"
   ]
  }
 ],
 "metadata": {
  "kernelspec": {
   "display_name": "Python 3",
   "language": "python",
   "name": "python3"
  },
  "language_info": {
   "codemirror_mode": {
    "name": "ipython",
    "version": 3
   },
   "file_extension": ".py",
   "mimetype": "text/x-python",
   "name": "python",
   "nbconvert_exporter": "python",
   "pygments_lexer": "ipython3",
   "version": "3.8.10"
  }
 },
 "nbformat": 4,
 "nbformat_minor": 2
}
