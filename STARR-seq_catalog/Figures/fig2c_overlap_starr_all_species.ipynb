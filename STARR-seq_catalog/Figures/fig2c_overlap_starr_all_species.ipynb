{
 "cells": [
  {
   "cell_type": "code",
   "execution_count": 10,
   "metadata": {},
   "outputs": [
    {
     "name": "stdout",
     "output_type": "stream",
     "text": [
      "p-value annotation legend:\n",
      "ns: 5.00e-02 < p <= 1.00e+00\n",
      "*: 1.00e-02 < p <= 5.00e-02\n",
      "**: 1.00e-03 < p <= 1.00e-02\n",
      "***: 1.00e-04 < p <= 1.00e-03\n",
      "****: p <= 1.00e-04\n",
      "\n",
      "D.mel_EE v.s. D.mel_Ctrl-: Custom statistical test, P_val:2.868e-89\n",
      "H.sap_EE v.s. H.sap_Ctrl-: Custom statistical test, P_val:0.000e+00\n",
      "A.tha_EE v.s. A.tha_Ctrl-: Custom statistical test, P_val:1.835e-111\n",
      "M.mus_EE v.s. M.mus_Ctrl-: Custom statistical test, P_val:4.601e-18\n",
      "D.mel_EE v.s. D.mel_Ctrl+: Custom statistical test, P_val:1.000e+00\n",
      "H.sap_EE v.s. H.sap_Ctrl+: Custom statistical test, P_val:3.449e-07\n",
      "M.mus_EE v.s. M.mus_Ctrl+: Custom statistical test, P_val:1.000e+00\n",
      "A.tha_EE v.s. A.tha_Ctrl+: Custom statistical test, P_val:1.770e-10\n"
     ]
    },
    {
     "data": {
      "image/png": "[encoded data removed]",
      "text/plain": [
       "<Figure size 500x500 with 1 Axes>"
      ]
     },
     "metadata": {},
     "output_type": "display_data"
    }
   ],
   "source": [
    "import pandas as pd\n",
    "import numpy as np\n",
    "import matplotlib.pyplot as plt\n",
    "import seaborn as sns\n",
    "import matplotlib\n",
    "from matplotlib.patches import Patch\n",
    "matplotlib.rcParams['pdf.fonttype'] = 42\n",
    "plt.figure(figsize=(5, 5))\n",
    "\n",
    "### Results of overlap for other species from other_species_overlap_starr.sh\n",
    "# MM EE STARR: 72 Perc:0.588\n",
    "# MM NEG STARR: 12 Perc:0.065\n",
    "# MM POS STARR: 6649 Perc:4.455\n",
    "# DM EE STARR: 3690 Perc:26.957\n",
    "# DM NEG STARR: 19 Perc:2.104\n",
    "# DM NEG STARR 5 : 238 Perc:5.065\n",
    "# DM NEG STARR 5eq: 301 Perc:5.159\n",
    "# DM POS STARR: 48812 Perc:36.631\n",
    "# TAIR EE STARR: 403 Perc:5.645\n",
    "# TAIR NEG STARR: 14 Perc:0.178\n",
    "# TAIR POS STARR: 322 Perc:3.567\n",
    "# HG EE STARR: 9095 Perc:67.465\n",
    "# HG NEG STARR: 2041 Perc:15.400\n",
    "# HG POS STARR: 264445 Perc:65.404\n",
    "\n",
    "dataf = [\n",
    "{\"Dataset\":\"A.tha\",\"Exons\":\"EE\",\"Count\":(403*100/7138)},  \n",
    "{\"Dataset\":\"A.tha\",\"Exons\":\"Ctrl-\",\"Count\":14*100/7862}, \n",
    "{\"Dataset\":\"A.tha\",\"Exons\":\"Ctrl+\",\"Count\":322*100/9025},\n",
    "\n",
    "{\"Dataset\":\"M.mus\",\"Exons\":\"EE\",\"Count\":(72*100/12244)},  \n",
    "{\"Dataset\":\"M.mus\",\"Exons\":\"Ctrl-\",\"Count\":12*100/18457}, \n",
    "{\"Dataset\":\"M.mus\",\"Exons\":\"Ctrl+\",\"Count\":6648*100/149241},\n",
    "\n",
    "{\"Dataset\":\"D.mel\",\"Exons\":\"EE\",\"Count\":(4890*100/13688)},  \n",
    "{\"Dataset\":\"D.mel\",\"Exons\":\"Ctrl-\",\"Count\":55*100/903}, \n",
    "{\"Dataset\":\"D.mel\",\"Exons\":\"Ctrl+\",\"Count\":82557*100/133253},\n",
    "\n",
    "{\"Dataset\":\"H.sap\",\"Exons\":\"EE\",\"Count\":(9095*100/13481)}, \n",
    "{\"Dataset\":\"H.sap\",\"Exons\":\"Ctrl-\",\"Count\":2041*100/13253},\n",
    "{\"Dataset\":\"H.sap\",\"Exons\":\"Ctrl+\",\"Count\":264445*100/404325},\n",
    "]\n",
    "\n",
    "df = pd.DataFrame(dataf)\n",
    "\n",
    "clrs = ['red' if (y == (403*100/7138)) else 'silver' if (y == (14*100/7862)) else \"mediumorchid\" for y in df[\"Count\"]]\n",
    "\n",
    "ax = sns.barplot(data=df, x=\"Dataset\", y=\"Count\", hue=\"Exons\",palette=clrs)\n",
    "\n",
    "from statannot import add_stat_annotation\n",
    "box_pairs = [\n",
    "    ((\"A.tha\", \"EE\"), (\"A.tha\", \"Ctrl-\")),\n",
    "    ((\"A.tha\", \"EE\"), (\"A.tha\", \"Ctrl+\")),\n",
    "    ((\"M.mus\", \"EE\"), (\"M.mus\", \"Ctrl-\")),\n",
    "    ((\"M.mus\", \"EE\"), (\"M.mus\", \"Ctrl+\")),\n",
    "    ((\"D.mel\", \"EE\"), (\"D.mel\", \"Ctrl-\")),\n",
    "    ((\"D.mel\", \"EE\"), (\"D.mel\", \"Ctrl+\")),\n",
    "    ((\"H.sap\", \"EE\"), (\"H.sap\", \"Ctrl-\")),\n",
    "    ((\"H.sap\", \"EE\"), (\"H.sap\", \"Ctrl+\")),\n",
    "]\n",
    "\n",
    "custom_pvalues = [1.834640056030006e-111,1.7703393291576863e-10,4.601337552000658e-18,1.0,2.8684547627697224e-89,1,0.0,3.448837804945186e-07] #fisher test\n",
    "\n",
    "add_stat_annotation(ax, data=df, x=\"Dataset\", y=\"Count\", hue=\"Exons\", order=[\"A.tha\",\"M.mus\",\"D.mel\",\"H.sap\"],\n",
    "                    box_pairs=box_pairs,\n",
    "                    pvalues=custom_pvalues, perform_stat_test=False, test=None, text_format='star', loc='inside', verbose=1)\n",
    "\n",
    "plt.legend(frameon=False)\n",
    "plt.yticks(fontsize=5)\n",
    "plt.xticks(fontsize=10, rotation=45)\n",
    "plt.xlabel(\"\", fontsize=8)\n",
    "plt.ylabel(\"% Overlap\", fontsize=8)\n",
    "\n",
    "plt.gca().spines['top'].set_visible(False)\n",
    "plt.gca().spines['right'].set_visible(False)\n",
    "###########################################################################################################\n",
    "\n",
    "plt.savefig(\"/home/mouren/Images/tls1/main_figures/fig2/overlap_starr_all_species.pdf\", format=\"pdf\", bbox_inches=\"tight\")\n",
    "plt.savefig(\"/home/mouren/Images/tls1/main_figures/fig2/overlap_starr_all_species.png\", format=\"png\", bbox_inches=\"tight\")\n",
    "\n",
    "plt.show()"
   ]
  },
  {
   "cell_type": "code",
   "execution_count": 1,
   "metadata": {},
   "outputs": [
    {
     "name": "stdout",
     "output_type": "stream",
     "text": [
      "SignificanceResult(statistic=11.391322842959637, pvalue=0.0)\n",
      "SignificanceResult(statistic=1.0968679321222845, pvalue=3.448837804945186e-07)\n",
      "SignificanceResult(statistic=17.171644855286846, pvalue=2.8684547627697224e-89)\n",
      "SignificanceResult(statistic=0.6384692696959453, pvalue=1.0)\n"
     ]
    }
   ],
   "source": [
    "### calculate p-value for starr-seq overlap \n",
    "from scipy.stats import fisher_exact\n",
    "import numpy as np\n",
    "\n",
    "hsap_neg = np.array([[9095, 2041],\n",
    "                  [13481-9095, 13253-2041]])\n",
    "\n",
    "hsap_pos = np.array([[9095, 264445],\n",
    "                  [13481-9095, 404325-264445]])\n",
    "\n",
    "dmel_neg = np.array([[3690, 19],\n",
    "                  [13688-3690, 903-19]])\n",
    "\n",
    "dmel_pos = np.array([[3690, 48812],\n",
    "                  [13688-3690, 133253-48812]])\n",
    "\n",
    "print(fisher_exact(hsap_neg,alternative=\"greater\")) \n",
    "print(fisher_exact(hsap_pos,alternative=\"greater\")) \n",
    "print(fisher_exact(dmel_neg,alternative=\"greater\")) \n",
    "print(fisher_exact(dmel_pos,alternative=\"greater\")) "
   ]
  },
  {
   "cell_type": "code",
   "execution_count": 2,
   "metadata": {},
   "outputs": [
    {
     "name": "stdout",
     "output_type": "stream",
     "text": [
      "SignificanceResult(statistic=9.09217877094972, pvalue=4.601337552000658e-18)\n",
      "SignificanceResult(statistic=0.1268754945658557, pvalue=1.0)\n",
      "SignificanceResult(statistic=33.54272987591473, pvalue=1.834640056030006e-111)\n",
      "SignificanceResult(statistic=1.6172626540690838, pvalue=1.7703393291576863e-10)\n"
     ]
    }
   ],
   "source": [
    "from scipy.stats import fisher_exact\n",
    "import numpy as np\n",
    "\n",
    "mm_neg = np.array([[72, 12],\n",
    "                  [12244-72, 18457-12]])\n",
    "\n",
    "mm_pos = np.array([[72, 6648],\n",
    "                  [12244-72, 149241-6648]])\n",
    "\n",
    "t_neg = np.array([[403, 14],\n",
    "                  [7138-403, 7862-14]])\n",
    "\n",
    "t_pos = np.array([[403, 322],\n",
    "                  [7138-403, 9025-322]])\n",
    "\n",
    "print(fisher_exact(mm_neg,alternative=\"greater\")) \n",
    "print(fisher_exact(mm_pos,alternative=\"greater\")) \n",
    "print(fisher_exact(t_neg,alternative=\"greater\")) \n",
    "print(fisher_exact(t_pos,alternative=\"greater\")) "
   ]
  }
 ],
 "metadata": {
  "kernelspec": {
   "display_name": "base",
   "language": "python",
   "name": "python3"
  },
  "language_info": {
   "codemirror_mode": {
    "name": "ipython",
    "version": 3
   },
   "file_extension": ".py",
   "mimetype": "text/x-python",
   "name": "python",
   "nbconvert_exporter": "python",
   "pygments_lexer": "ipython3",
   "version": "3.9.16"
  },
  "orig_nbformat": 4
 },
 "nbformat": 4,
 "nbformat_minor": 2
}
