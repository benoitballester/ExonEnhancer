{
 "cells": [
  {
   "cell_type": "code",
   "execution_count": 22,
   "metadata": {},
   "outputs": [],
   "source": [
    "import pandas as pd\n",
    "content=[]\n",
    "with open(\"/home/mouren/Data/variants/gwas/watanabe2019/watanabe2019_pleiotropy_TS12_raw_hg19.csv\") as file:\n",
    "    first = True\n",
    "    for line in file:     \n",
    "        if first:\n",
    "            if line.strip().split()[0] == \"uniqID\":\n",
    "                header = [\"chr\",\"start\",\"end\",\"id\"]\n",
    "                for i in line.strip().split()[2:]:\n",
    "                    header.append(i)\n",
    "                content.append(header)\n",
    "                first = False\n",
    "                continue\n",
    "            else:\n",
    "                continue\n",
    "        \n",
    "        chromosome = \"chr\"+((line.strip().split()[0]).split(\":\")[0])\n",
    "        start = (line.strip().split()[0]).split(\":\")[1]\n",
    "        ref = (line.strip().split()[0]).split(\":\")[2]\n",
    "        alt = (line.strip().split()[0]).split(\":\")[3]\n",
    "        \n",
    "        entry = [chromosome,start,start,line.strip().split()[1]+\"_\"+ref+\"_\"+alt]\n",
    "\n",
    "        for i in line.strip().split(\"\\t\")[2:]:\n",
    "            if i == \"Connective tissue\":\n",
    "                entry.append(\"Connective_tissue\")\n",
    "                continue\n",
    "            elif i == \"Ear, Nose, Throat\":\n",
    "                entry.append(\"Ear_Nose_Throat\")\n",
    "                continue\n",
    "            elif i == \"Body Structures\":\n",
    "                entry.append(\"Body_Structures\")\n",
    "                continue\n",
    "            elif i == \"Social Interactions\":\n",
    "                entry.append(\"Social_Interactions\")\n",
    "                continue\n",
    "            \n",
    "            entry.append(i)\n",
    "\n",
    "        content.append(entry)\n",
    "\n",
    "df = pd.DataFrame(content)\n",
    "df.to_csv(\"/home/mouren/Data/variants/gwas/watanabe2019/watanabe2019_pleiotropy_TS12_hg19.bed\",sep=\"\\t\",header=False,index=False)\n"
   ]
  },
  {
   "cell_type": "code",
   "execution_count": null,
   "metadata": {},
   "outputs": [],
   "source": [
    "### lift to hg38\n",
    "awk '(NR==1)' OFS=$'\\t' watanabe2019_pleiotropy_TS12_hg19.bed > header\n",
    "awk '(NR>1)' OFS=$'\\t' watanabe2019_pleiotropy_TS12_hg19.bed > tmp\n",
    "/home/mouren/UCSC_commands/liftOver -bedPlus=4 tmp /home/mouren/Data/final_files_tokeep/genomes_sizes/hg19ToHg38.over.chain watanabe2019_pleiotropy_TS12_hg38.bed unmapped.txt\n",
    "rm tmp\n",
    "sort -k1,1 -k2,2n watanabe2019_pleiotropy_TS12_hg38.bed > watanabe2019_pleiotropy_TS12_hg38_sorted.bed\n",
    "cat header watanabe2019_pleiotropy_TS12_hg38_sorted.bed > test && mv test watanabe2019_pleiotropy_TS12_hg38_sorted.bed\n",
    "rm header watanabe2019_pleiotropy_TS12_hg19.bed unmapped.txt\n"
   ]
  }
 ],
 "metadata": {
  "kernelspec": {
   "display_name": "base",
   "language": "python",
   "name": "python3"
  },
  "language_info": {
   "codemirror_mode": {
    "name": "ipython",
    "version": 3
   },
   "file_extension": ".py",
   "mimetype": "text/x-python",
   "name": "python",
   "nbconvert_exporter": "python",
   "pygments_lexer": "ipython3",
   "version": "3.9.16"
  }
 },
 "nbformat": 4,
 "nbformat_minor": 2
}
