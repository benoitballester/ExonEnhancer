{
 "cells": [
  {
   "cell_type": "code",
   "execution_count": 8,
   "metadata": {},
   "outputs": [],
   "source": [
    "import pandas as pd \n",
    "\n",
    "content=[]\n",
    "with open(\"/home/mouren/Data/variants/gwas/ld_pipe/all_LD_snps_merged.ld\") as file:\n",
    "    first = True\n",
    "    for line in file:            \n",
    "        if first:\n",
    "            first = False\n",
    "            continue\n",
    "        content.append(line.strip().split())\n",
    "df = pd.DataFrame(content)\n",
    "\n",
    "grouped_df = df.groupby(2)\n",
    "\n",
    "content2 = [] #chr pos pos leadRsID_linkedRsID\n",
    "for group_name, group_data in grouped_df:   \n",
    "    for index, row in group_data.iterrows():\n",
    "        if row[5] == row[2]:\n",
    "            continue\n",
    "        content2.append([\"chr\"+row[3],row[4],row[4],row[2]+\"_\"+row[5]])\n",
    "    content2.append([\"chr\"+row[3],row[4],row[4],row[2]+\"_\"+row[2]])\n",
    "\n",
    "df2 = pd.DataFrame(content2)\n",
    "df2 = df2.drop_duplicates()\n",
    "df2.to_csv(\"/home/mouren/Data/variants/gwas/ld_pipe/all_LD_snps_merged_formatted.bed\",sep=\"\\t\",header=False,index=False)\n"
   ]
  }
 ],
 "metadata": {
  "kernelspec": {
   "display_name": "Python 3",
   "language": "python",
   "name": "python3"
  },
  "language_info": {
   "codemirror_mode": {
    "name": "ipython",
    "version": 3
   },
   "file_extension": ".py",
   "mimetype": "text/x-python",
   "name": "python",
   "nbconvert_exporter": "python",
   "pygments_lexer": "ipython3",
   "version": "3.8.10"
  }
 },
 "nbformat": 4,
 "nbformat_minor": 2
}
