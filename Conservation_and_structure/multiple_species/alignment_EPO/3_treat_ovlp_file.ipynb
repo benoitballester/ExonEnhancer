{
 "cells": [
  {
   "cell_type": "code",
   "execution_count": 16,
   "metadata": {},
   "outputs": [],
   "source": [
    "import pandas as pd \n",
    "import os \n",
    "\n",
    "with open(\"/home/mouren/Data/conservation/epo_sbatcharray/ee/ee_hsap_id\", 'r') as f:\n",
    "    index_values = f.read().splitlines()\n",
    "\n",
    "df_final = pd.DataFrame(index=index_values,columns=[\"hsa_CEBPA\",\"hsa_FOXA1\",\"hsa_HNF4A\",\"hsa_HNF6\",\"mmu_CEBPA\",\"mmu_FOXA1\",\"mmu_HNF4A\",\"mmu_HNF6\",\"mml_CEBPA\",\"mml_FOXA1\",\"mml_HNF4A\",\"mml_HNF6\",\"cfa_CEBPA\",\"cfa_FOXA1\",\"cfa_HNF4A\",\"cfa_HNF6\",\"rno_CEBPA\",\"rno_FOXA1\",\"rno_HNF4A\",\"rno_HNF6\"])\n",
    "\n",
    "directory = \"/home/mouren/Data/conservation/epo_sbatcharray/ee/ovlp\"\n",
    "for filename in os.listdir(directory):\n",
    "    id = filename.split(\"_\")[1]+\"_\"+(filename.split(\"_\")[2]).split(\".\")[0]\n",
    "    df = pd.read_csv(os.path.join(directory,filename), sep=\"\\t\", index_col=0,header=None)\n",
    "    grouped_df = df.groupby(3)\n",
    "    for group_name, group_data in grouped_df:\n",
    "        df_final.at[group_name, id] = len(group_data)\n",
    "\n",
    "df_final.fillna(0, inplace=True)\n",
    "\n",
    "df_final.to_csv(\"/home/mouren/Data/conservation/epo_sbatcharray/ee/ovlp_bilan_ee.tsv\",sep=\"\\t\")"
   ]
  },
  {
   "cell_type": "code",
   "execution_count": 20,
   "metadata": {},
   "outputs": [],
   "source": [
    "import pandas as pd \n",
    "import os \n",
    "\n",
    "with open(\"/home/mouren/Data/conservation/epo_sbatcharray/controlneg/ctrlneg_hsap_id\", 'r') as f:\n",
    "    index_values = f.read().splitlines()\n",
    "\n",
    "df_final = pd.DataFrame(index=index_values,columns=[\"hsa_CEBPA\",\"hsa_FOXA1\",\"hsa_HNF4A\",\"hsa_HNF6\",\"mmu_CEBPA\",\"mmu_FOXA1\",\"mmu_HNF4A\",\"mmu_HNF6\",\"mml_CEBPA\",\"mml_FOXA1\",\"mml_HNF4A\",\"mml_HNF6\",\"cfa_CEBPA\",\"cfa_FOXA1\",\"cfa_HNF4A\",\"cfa_HNF6\",\"rno_CEBPA\",\"rno_FOXA1\",\"rno_HNF4A\",\"rno_HNF6\"])\n",
    "\n",
    "directory = \"/home/mouren/Data/conservation/epo_sbatcharray/controlneg/ovlp\"\n",
    "for filename in os.listdir(directory):\n",
    "    id = filename.split(\"_\")[1]+\"_\"+(filename.split(\"_\")[2]).split(\".\")[0]\n",
    "    try: #as control neg pratically no chip seq data\n",
    "        df = pd.read_csv(os.path.join(directory,filename), sep=\"\\t\", index_col=0,header=None)\n",
    "    except Exception:\n",
    "        continue\n",
    "    grouped_df = df.groupby(3)\n",
    "    for group_name, group_data in grouped_df:\n",
    "        df_final.at[group_name, id] = len(group_data)\n",
    "\n",
    "df_final.fillna(0, inplace=True)\n",
    "\n",
    "df_final.to_csv(\"/home/mouren/Data/conservation/epo_sbatcharray/controlneg/ovlp_bilan_ctrlneg.tsv\",sep=\"\\t\")"
   ]
  },
  {
   "cell_type": "code",
   "execution_count": 23,
   "metadata": {},
   "outputs": [],
   "source": [
    "import pandas as pd \n",
    "import os \n",
    "\n",
    "with open(\"/home/mouren/Data/conservation/epo_sbatcharray/controlpos/ctrlpos_hsap_id\", 'r') as f:\n",
    "    index_values = f.read().splitlines()\n",
    "\n",
    "df_final = pd.DataFrame(index=index_values,columns=[\"hsa_CEBPA\",\"hsa_FOXA1\",\"hsa_HNF4A\",\"hsa_HNF6\",\"mmu_CEBPA\",\"mmu_FOXA1\",\"mmu_HNF4A\",\"mmu_HNF6\",\"mml_CEBPA\",\"mml_FOXA1\",\"mml_HNF4A\",\"mml_HNF6\",\"cfa_CEBPA\",\"cfa_FOXA1\",\"cfa_HNF4A\",\"cfa_HNF6\",\"rno_CEBPA\",\"rno_FOXA1\",\"rno_HNF4A\",\"rno_HNF6\"])\n",
    "\n",
    "directory = \"/home/mouren/Data/conservation/epo_sbatcharray/controlpos/ovlp\"\n",
    "for filename in os.listdir(directory):\n",
    "    id = filename.split(\"_\")[1]+\"_\"+(filename.split(\"_\")[2]).split(\".\")[0]\n",
    "    df = pd.read_csv(os.path.join(directory,filename), sep=\"\\t\", index_col=0,header=None)\n",
    "    grouped_df = df.groupby(3)\n",
    "    for group_name, group_data in grouped_df:\n",
    "        df_final.at[group_name, id] = len(group_data)\n",
    "\n",
    "df_final.fillna(0, inplace=True)\n",
    "df_final = df_final.loc[~(df_final == 0).all(axis=1)]\n",
    "df_final.to_csv(\"/home/mouren/Data/conservation/epo_sbatcharray/controlpos/ovlp_bilan_ctrlpos_filtered.tsv\",sep=\"\\t\")"
   ]
  }
 ],
 "metadata": {
  "kernelspec": {
   "display_name": "base",
   "language": "python",
   "name": "python3"
  },
  "language_info": {
   "codemirror_mode": {
    "name": "ipython",
    "version": 3
   },
   "file_extension": ".py",
   "mimetype": "text/x-python",
   "name": "python",
   "nbconvert_exporter": "python",
   "pygments_lexer": "ipython3",
   "version": "3.9.16"
  }
 },
 "nbformat": 4,
 "nbformat_minor": 2
}
