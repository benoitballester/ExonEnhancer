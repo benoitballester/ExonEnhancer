{
 "cells": [
  {
   "cell_type": "code",
   "execution_count": 1,
   "metadata": {},
   "outputs": [],
   "source": [
    "dic_group = {}\n",
    "with open(\"/home/mouren/Data/final_files_tokeep/notes/ee_grouped_tf_dm\") as file:\n",
    "    for line in file:    \n",
    "        dic_group[line.strip().split(\"\\t\")[0]] = line.strip().split(\"\\t\")[1]\n",
    "\n",
    "dic_gc = {}\n",
    "with open(\"/home/mouren/Data/final_files_tokeep/notes/gc_perc/gc_perc_ee_dic_dm.tsv\") as file:\n",
    "    for line in file:    \n",
    "        dic_gc[line.strip().split(\"\\t\")[0]] = line.strip().split(\"\\t\")[1]\n",
    "\n",
    "dic_disorder = {}\n",
    "with open(\"/home/mouren/Data/mobidb/dm/ee_disorder_perc_dm6.tsv\") as file:\n",
    "    for line in file:    \n",
    "        dic_disorder[line.strip().split(\"\\t\")[0]] = line.strip().split(\"\\t\")[1]\n",
    "\n",
    "dic_plddt = {}\n",
    "with open(\"/home/mouren/Data/alphafold/dm/ee_neg_plddt_mean_score_dm.tsv\") as file:\n",
    "    for line in file:    \n",
    "        dic_plddt[line.strip().split(\"\\t\")[0]] = line.strip().split(\"\\t\")[1]\n",
    "\n",
    "dic_phylop = {}\n",
    "with open(\"/home/mouren/Data/conservation/phyloP100way/dm6_EE_phylop.bed\") as file:\n",
    "    for line in file:    \n",
    "        dic_phylop[line.strip().split(\"\\t\")[3]] = line.strip().split(\"\\t\")[6]"
   ]
  },
  {
   "cell_type": "code",
   "execution_count": null,
   "metadata": {},
   "outputs": [
    {
     "ename": "FileNotFoundError",
     "evalue": "[Errno 2] No such file or directory: '/home/mouren/Data/final_files_tokeep/other_species/dm6_EE.bed'",
     "output_type": "error",
     "traceback": [
      "\u001b[0;31m---------------------------------------------------------------------------\u001b[0m",
      "\u001b[0;31mFileNotFoundError\u001b[0m                         Traceback (most recent call last)",
      "Cell \u001b[0;32mIn [2], line 3\u001b[0m\n\u001b[1;32m      1\u001b[0m \u001b[38;5;28;01mimport\u001b[39;00m \u001b[38;5;21;01mpandas\u001b[39;00m \u001b[38;5;28;01mas\u001b[39;00m \u001b[38;5;21;01mpd\u001b[39;00m\n\u001b[1;32m      2\u001b[0m content \u001b[38;5;241m=\u001b[39m [[\u001b[38;5;124m\"\u001b[39m\u001b[38;5;124mExon\u001b[39m\u001b[38;5;124m\"\u001b[39m,\u001b[38;5;124m\"\u001b[39m\u001b[38;5;124mGroupByTF\u001b[39m\u001b[38;5;124m\"\u001b[39m,\u001b[38;5;124m\"\u001b[39m\u001b[38;5;124mGC\u001b[39m\u001b[38;5;124m%\u001b[39m\u001b[38;5;124m\"\u001b[39m,\u001b[38;5;124m\"\u001b[39m\u001b[38;5;124mMean_alphafold_pLDDT\u001b[39m\u001b[38;5;124m\"\u001b[39m,\u001b[38;5;124m\"\u001b[39m\u001b[38;5;124mMobiDB_disorder\u001b[39m\u001b[38;5;124m%\u001b[39m\u001b[38;5;124m\"\u001b[39m,\u001b[38;5;124m\"\u001b[39m\u001b[38;5;124mPhyloP\u001b[39m\u001b[38;5;124m\"\u001b[39m]]\n\u001b[0;32m----> 3\u001b[0m \u001b[38;5;28;01mwith\u001b[39;00m \u001b[38;5;28;43mopen\u001b[39;49m\u001b[43m(\u001b[49m\u001b[38;5;124;43m\"\u001b[39;49m\u001b[38;5;124;43m/home/mouren/Data/final_files_tokeep/other_species/dm6_EE.bed\u001b[39;49m\u001b[38;5;124;43m\"\u001b[39;49m\u001b[43m)\u001b[49m \u001b[38;5;28;01mas\u001b[39;00m file:\n\u001b[1;32m      4\u001b[0m     \u001b[38;5;28;01mfor\u001b[39;00m line \u001b[38;5;129;01min\u001b[39;00m file:    \n\u001b[1;32m      5\u001b[0m         exon \u001b[38;5;241m=\u001b[39m line\u001b[38;5;241m.\u001b[39mstrip()\u001b[38;5;241m.\u001b[39msplit()[\u001b[38;5;241m3\u001b[39m]\n",
      "\u001b[0;31mFileNotFoundError\u001b[0m: [Errno 2] No such file or directory: '/home/mouren/Data/final_files_tokeep/other_species/dm6_EE.bed'"
     ]
    }
   ],
   "source": [
    "import pandas as pd\n",
    "content = [[\"Exon\",\"GroupByTF\",\"GC%\",\"Mean_alphafold_pLDDT\",\"MobiDB_disorder%\",\"PhyloP\"]]\n",
    "with open(\"/mnt/project/exonhancer/ZENODO_REPO/EE_selection/dm6_EE.bed\") as file:\n",
    "    for line in file:    \n",
    "        exon = line.strip().split()[3]\n",
    "\n",
    "        try:\n",
    "            plddt = dic_plddt[exon]\n",
    "        except KeyError:\n",
    "            plddt = \"NA\"\n",
    "\n",
    "        try:\n",
    "            disorder = dic_disorder[exon]\n",
    "        except KeyError:\n",
    "            disorder = \"NA\"\n",
    "\n",
    "        try:\n",
    "            phylop = dic_phylop[exon]\n",
    "        except KeyError:\n",
    "            phylop = \"NA\"\n",
    "\n",
    "\n",
    "        content.append([exon, dic_group[exon], dic_gc[exon], plddt, disorder, phylop])\n",
    "        \n",
    "df = pd.DataFrame(content)\n",
    "df.to_csv(\"/mnt/project/exonhancer/ZENODO_REPO/Conservation_and_structure/summary_files/bilan_ee_caracteristique_dm6.tsv\",sep=\"\\t\",header=False,index=False)"
   ]
  }
 ],
 "metadata": {
  "kernelspec": {
   "display_name": "Python 3",
   "language": "python",
   "name": "python3"
  },
  "language_info": {
   "codemirror_mode": {
    "name": "ipython",
    "version": 3
   },
   "file_extension": ".py",
   "mimetype": "text/x-python",
   "name": "python",
   "nbconvert_exporter": "python",
   "pygments_lexer": "ipython3",
   "version": "3.8.10"
  }
 },
 "nbformat": 4,
 "nbformat_minor": 2
}
