{
 "cells": [
  {
   "cell_type": "code",
   "execution_count": 3,
   "metadata": {},
   "outputs": [],
   "source": [
    "dic_disorder = {}\n",
    "with open(\"/home/mouren/Data/mobidb/hsap/ee_disorder_perc_hg38.tsv\") as file:\n",
    "    for line in file:    \n",
    "        dic_disorder[line.strip().split(\"\\t\")[0]] = line.strip().split(\"\\t\")[1]\n",
    "\n",
    "dic_plddt = {}\n",
    "with open(\"/home/mouren/Data/alphafold/hsap/ee_neg_plddt_mean_score_hg.tsv\") as file:\n",
    "    for line in file:    \n",
    "        dic_plddt[line.strip().split(\"\\t\")[0]] = line.strip().split(\"\\t\")[1]\n",
    "\n",
    "dic_group = {}\n",
    "with open(\"/mnt/project/exonhancer/ZENODO_REPO/Conservation_and_structure/summary_files/grouped_by_tf/ee_grouped_tf_hg\") as file:\n",
    "    for line in file:    \n",
    "        dic_group[line.strip().split(\"\\t\")[0]] = line.strip().split(\"\\t\")[1]\n",
    "\n",
    "dic_gc = {}\n",
    "with open(\"/home/mouren/Data/final_files_tokeep/notes/gc_perc/gc_perc_ee_dic_hg38.tsv\") as file:\n",
    "    for line in file:    \n",
    "        dic_gc[line.strip().split(\"\\t\")[0]] = line.strip().split(\"\\t\")[1]\n",
    "\n",
    "dic_age = {}\n",
    "with open(\"/home/mouren/Data/age_genes/ee_age_genes.tsv\") as file:\n",
    "    for line in file:    \n",
    "        dic_age[line.strip().split(\"\\t\")[0]] = [line.strip().split(\"\\t\")[4],line.strip().split(\"\\t\")[5]] #clade, category\n",
    "\n",
    "dic_phylop = {}\n",
    "with open(\"/home/mouren/Data/conservation/phyloP100way/hg38_EE_phylop.bed\") as file:\n",
    "    for line in file:    \n",
    "        dic_phylop[line.strip().split(\"\\t\")[3]] = line.strip().split(\"\\t\")[6]"
   ]
  },
  {
   "cell_type": "code",
   "execution_count": 4,
   "metadata": {},
   "outputs": [],
   "source": [
    "import pandas as pd\n",
    "content = [[\"Exon\",\"GroupByTF\",\"GC%\",\"Mean_alphafold_pLDDT\",\"MobiDB_disorder%\",\"Trigos2017_clade\",\"Trigos2017_category\",\"PhyloP\"]]\n",
    "with open(\"/mnt/project/exonhancer/ZENODO_REPO/EE_selection/hg38_EE.bed\") as file:\n",
    "    for line in file:    \n",
    "        exon = line.strip().split()[3]\n",
    "\n",
    "        try:\n",
    "            plddt = dic_plddt[exon]\n",
    "        except KeyError:\n",
    "            plddt = \"NA\"\n",
    "\n",
    "        try:\n",
    "            disorder = dic_disorder[exon]\n",
    "        except KeyError:\n",
    "            disorder = \"NA\"\n",
    "\n",
    "        try:\n",
    "            age_clade = dic_age[exon][0]\n",
    "            age_category = dic_age[exon][1]\n",
    "        except KeyError:\n",
    "            age_clade = \"NA\"\n",
    "            age_category = \"NA\"\n",
    "        \n",
    "        try:\n",
    "            phylop = dic_phylop[exon]\n",
    "        except KeyError:\n",
    "            phylop = \"NA\"\n",
    "\n",
    "        content.append([exon, dic_group[exon], dic_gc[exon], plddt, disorder, age_clade, age_category, phylop])\n",
    "        \n",
    "df = pd.DataFrame(content)\n",
    "df.to_csv(\"/mnt/project/exonhancer/ZENODO_REPO/Conservation_and_structure/summary_files/bilan_ee_caracteristique_hg38.tsv\",sep=\"\\t\",header=False,index=False)"
   ]
  }
 ],
 "metadata": {
  "kernelspec": {
   "display_name": "Python 3",
   "language": "python",
   "name": "python3"
  },
  "language_info": {
   "codemirror_mode": {
    "name": "ipython",
    "version": 3
   },
   "file_extension": ".py",
   "mimetype": "text/x-python",
   "name": "python",
   "nbconvert_exporter": "python",
   "pygments_lexer": "ipython3",
   "version": "3.8.10"
  }
 },
 "nbformat": 4,
 "nbformat_minor": 2
}
