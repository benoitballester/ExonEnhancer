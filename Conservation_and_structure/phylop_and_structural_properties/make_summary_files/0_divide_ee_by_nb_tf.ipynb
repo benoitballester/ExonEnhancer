{
 "cells": [
  {
   "cell_type": "code",
   "execution_count": 1,
   "metadata": {},
   "outputs": [],
   "source": [
    "#do the same for the four species\n",
    "import pandas as pd\n",
    "import numpy as np\n",
    "content = []\n",
    "with open(\"/mnt/project/exonhancer/ZENODO_REPO/EE_selection/hsap/summary_files/EE_summary_hg38.tsv\") as f:\n",
    "#with open(\"/mnt/project/exonhancer/ZENODO_REPO/EE_selection/other_species/summary_files/EE_summary_tair10.tsv\") as f:\n",
    "    for line in f:\n",
    "        content.append(line.strip().split())\n",
    "df = pd.DataFrame(content)\n",
    "\n",
    "df[7] = df[7].astype(int)\n",
    "df[16] = df[16].astype(int) #16 for mm and hsap\n"
   ]
  },
  {
   "cell_type": "code",
   "execution_count": 2,
   "metadata": {},
   "outputs": [],
   "source": [
    "df_sorted = df.sort_values(by=[df.columns[7], df.columns[15]]) #16 for mm and hsap 15 for atha and dmel\n",
    "\n",
    "total_rows = len(df_sorted)\n",
    "group_size = total_rows // 10  # This is the base group size\n",
    "remainder = total_rows % 10  # This is the remainder that will be spread across the first few groups\n",
    "\n",
    "group_labels = np.zeros(total_rows, dtype=int)\n",
    "\n",
    "current_row = 0\n",
    "for group_num in range(1, 11):\n",
    "    # Calculate the size of the current group\n",
    "    if group_num <= remainder:\n",
    "        group_size_with_remainder = group_size + 1  # Groups with one extra element\n",
    "    else:\n",
    "        group_size_with_remainder = group_size\n",
    "\n",
    "    group_labels[current_row:current_row + group_size_with_remainder] = group_num\n",
    "    \n",
    "    # Move the current row index forward\n",
    "    current_row += group_size_with_remainder\n",
    "\n",
    "df_sorted['Group Number'] = group_labels\n",
    "\n",
    "df_to_save = df_sorted[[df_sorted.columns[3], 'Group Number']]\n",
    "\n",
    "df_to_save.to_csv(\"/mnt/project/exonhancer/ZENODO_REPO/Conservation_and_structure/summary_files/grouped_by_tf/ee_grouped_tf_hg\",sep=\"\\t\",header=False,index=False)\n"
   ]
  }
 ],
 "metadata": {
  "kernelspec": {
   "display_name": "Python 3",
   "language": "python",
   "name": "python3"
  },
  "language_info": {
   "codemirror_mode": {
    "name": "ipython",
    "version": 3
   },
   "file_extension": ".py",
   "mimetype": "text/x-python",
   "name": "python",
   "nbconvert_exporter": "python",
   "pygments_lexer": "ipython3",
   "version": "3.8.10"
  }
 },
 "nbformat": 4,
 "nbformat_minor": 2
}
