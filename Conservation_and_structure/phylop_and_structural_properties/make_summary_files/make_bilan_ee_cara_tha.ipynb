{
 "cells": [
  {
   "cell_type": "code",
   "execution_count": null,
   "metadata": {},
   "outputs": [],
   "source": [
    "dic_group = {}\n",
    "with open(\"/home/mouren/Data/final_files_tokeep/notes/ee_grouped_tf_tha\") as file:\n",
    "    for line in file:    \n",
    "        dic_group[line.strip().split(\"\\t\")[0]] = line.strip().split(\"\\t\")[1]\n",
    "\n",
    "dic_gc = {}\n",
    "with open(\"/home/mouren/Data/final_files_tokeep/notes/gc_perc/gc_perc_ee_dic_tair.tsv\") as file:\n",
    "    for line in file:    \n",
    "        dic_gc[line.strip().split(\"\\t\")[0]] = line.strip().split(\"\\t\")[1]\n",
    "\n",
    "dic_disorder = {}\n",
    "with open(\"/home/mouren/Data/mobidb/tair/ee_disorder_perc_tair10.tsv\") as file:\n",
    "    for line in file:    \n",
    "        dic_disorder[line.strip().split(\"\\t\")[0]] = line.strip().split(\"\\t\")[1]\n",
    "\n",
    "dic_plddt = {}\n",
    "with open(\"/home/mouren/Data/alphafold/tair/ee_neg_plddt_mean_score_tair.tsv\") as file:\n",
    "    for line in file:    \n",
    "        dic_plddt[line.strip().split(\"\\t\")[0]] = line.strip().split(\"\\t\")[1]\n",
    "\n",
    "dic_phylop = {}\n",
    "with open(\"/home/mouren/Data/conservation/phyloP100way/tair10_EE_phylop.bed\") as file:\n",
    "    for line in file:    \n",
    "        dic_phylop[line.strip().split(\"\\t\")[3]] = line.strip().split(\"\\t\")[6]\n"
   ]
  },
  {
   "cell_type": "code",
   "execution_count": null,
   "metadata": {},
   "outputs": [],
   "source": [
    "import pandas as pd\n",
    "content = [[\"Exon\",\"GroupByTF\",\"GC%\",\"Mean_alphafold_pLDDT\",\"MobiDB_disorder%\", \"PhyloP\"]]\n",
    "with open(\"/mnt/project/exonhancer/ZENODO_REPO/EE_selection/tair10_EE.bed\") as file:\n",
    "    for line in file:    \n",
    "        exon = line.strip().split()[3]\n",
    "\n",
    "        try:\n",
    "            plddt = dic_plddt[exon]\n",
    "        except KeyError:\n",
    "            plddt = \"NA\"\n",
    "\n",
    "        try:\n",
    "            disorder = dic_disorder[exon]\n",
    "        except KeyError:\n",
    "            disorder = \"NA\"\n",
    "        \n",
    "        try:\n",
    "            phylop = dic_phylop[exon]\n",
    "        except KeyError:\n",
    "            phylop = \"NA\"\n",
    "\n",
    "        content.append([exon, dic_group[exon], dic_gc[exon], plddt, disorder, phylop])\n",
    "        \n",
    "df = pd.DataFrame(content)\n",
    "df.to_csv(\"/mnt/project/exonhancer/ZENODO_REPO/Conservation_and_structure/summary_files/bilan_ee_caracteristique_tair10.tsv\",sep=\"\\t\",header=False,index=False)"
   ]
  }
 ],
 "metadata": {
  "kernelspec": {
   "display_name": "base",
   "language": "python",
   "name": "python3"
  },
  "language_info": {
   "codemirror_mode": {
    "name": "ipython",
    "version": 3
   },
   "file_extension": ".py",
   "mimetype": "text/x-python",
   "name": "python",
   "nbconvert_exporter": "python",
   "pygments_lexer": "ipython3",
   "version": "3.9.16"
  }
 },
 "nbformat": 4,
 "nbformat_minor": 2
}
