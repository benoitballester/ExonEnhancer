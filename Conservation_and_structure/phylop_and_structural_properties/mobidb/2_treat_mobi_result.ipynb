{
 "cells": [
  {
   "cell_type": "code",
   "execution_count": null,
   "metadata": {},
   "outputs": [],
   "source": [
    "import pandas as pd\n",
    "import json\n",
    "# do for all species\n",
    "content=[]\n",
    "with open(\"/home/mouren/Data/mobidb/dm/disorder_prediction_mobidb_dm6.tsv\") as file:\n",
    "    for line in file:            \n",
    "        content.append(line.strip().split())\n",
    "df = pd.DataFrame(content)\n",
    "\n",
    "grouped_df = df.groupby(0)\n",
    "\n",
    "result = {}\n",
    "for group_name, group_data in grouped_df:\n",
    "    indexes_disorder = []\n",
    "    for index, row in group_data.iterrows():\n",
    "        for i in row[3].split(\",\"):\n",
    "            a = int(i.split(\"..\")[0])\n",
    "            b = int(i.split(\"..\")[1])\n",
    "            indexes_disorder.append((a,b))\n",
    "    sorted_list = sorted(indexes_disorder, key=lambda x: x[0])\n",
    "    result[group_name] = sorted_list\n",
    "\n",
    "with open(\"/home/mouren/Data/mobidb/dm/genes_disorder_sorted_mobiDB_dm6.json\", 'w') as f:\n",
    "    json.dump(result, f)"
   ]
  }
 ],
 "metadata": {
  "kernelspec": {
   "display_name": "base",
   "language": "python",
   "name": "python3"
  },
  "language_info": {
   "codemirror_mode": {
    "name": "ipython",
    "version": 3
   },
   "file_extension": ".py",
   "mimetype": "text/x-python",
   "name": "python",
   "nbconvert_exporter": "python",
   "pygments_lexer": "ipython3",
   "version": "3.9.16"
  }
 },
 "nbformat": 4,
 "nbformat_minor": 2
}
