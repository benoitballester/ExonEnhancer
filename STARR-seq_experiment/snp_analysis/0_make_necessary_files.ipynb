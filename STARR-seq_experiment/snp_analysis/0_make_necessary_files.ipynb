{
 "cells": [
  {
   "cell_type": "code",
   "execution_count": null,
   "metadata": {},
   "outputs": [],
   "source": [
    "import pandas as pd\n",
    "import math\n",
    "\n",
    "### Load \n",
    "df = pd.read_csv(\"/home/mouren/Data/valid_exp/summary_count_exonhancers_bilan.tsv\", sep=\"\\t\", header=0)\n",
    "df = df[~df['Log2FC'].str.contains('#', na=False)] # Remove rows with no log2FC values \n",
    "\n",
    "#Log2FC of merged replicates and standard deviation\n",
    "df[\"Log2FC\"] = df[\"Log2FC\"].str.replace(',', '.')\n",
    "df[\"Input_STD\"] = df[\"Input_STD\"].str.replace(',', '.')\n",
    "\n",
    "df[\"Input_STD\"] = pd.to_numeric(df[\"Input_STD\"])\n",
    "df[\"Log2FC\"] = pd.to_numeric(df[\"Log2FC\"])\n",
    "\n",
    "#Input normalisé mergé\n",
    "df[\"CPM_AVO4Exonhmaxi4\"] = df[\"CPM_AVO4Exonhmaxi4\"].str.replace(',', '.') \n",
    "df[\"CPM_AVO4Exonhmaxi4\"] = pd.to_numeric(df[\"CPM_AVO4Exonhmaxi4\"])\n",
    "\n",
    "#Input normalisé \n",
    "df[\"CPM_AVO1ExonhDNA1\"] = df[\"CPM_AVO1ExonhDNA1\"].str.replace(',', '.')\n",
    "df[\"CPM_AVO2ExonhDNA2\"] = df[\"CPM_AVO2ExonhDNA2\"].str.replace(',', '.')\n",
    "df[\"CPM_AVO3ExonhDNA3\"] = df[\"CPM_AVO3ExonhDNA3\"].str.replace(',', '.')\n",
    "\n",
    "df[\"CPM_AVO1ExonhDNA1\"] = pd.to_numeric(df[\"CPM_AVO1ExonhDNA1\"])\n",
    "df[\"CPM_AVO2ExonhDNA2\"] = pd.to_numeric(df[\"CPM_AVO2ExonhDNA2\"])\n",
    "df[\"CPM_AVO3ExonhDNA3\"] = pd.to_numeric(df[\"CPM_AVO3ExonhDNA3\"])\n",
    "\n",
    "#Output normalisé mergé\n",
    "df[\"CPM_AVO7ExonhcDNA3\"] = df[\"CPM_AVO7ExonhcDNA3\"].str.replace(',', '.')\n",
    "df[\"CPM_AVO8ExonhcDNA4\"] = df[\"CPM_AVO8ExonhcDNA4\"].str.replace(',', '.')\n",
    "df[\"CPM_AVO9ExonhcDNA5\"] = df[\"CPM_AVO9ExonhcDNA5\"].str.replace(',', '.')\n",
    "\n",
    "df[\"CPM_AVO7ExonhcDNA3\"] = pd.to_numeric(df[\"CPM_AVO7ExonhcDNA3\"])\n",
    "df[\"CPM_AVO8ExonhcDNA4\"] = pd.to_numeric(df[\"CPM_AVO8ExonhcDNA4\"])\n",
    "df[\"CPM_AVO9ExonhcDNA5\"] = pd.to_numeric(df[\"CPM_AVO9ExonhcDNA5\"])\n",
    "\n",
    "## To filter\n",
    "df[\"count_sequence_AVO4Exonhmaxi4\"] = pd.to_numeric(df[\"count_sequence_AVO4Exonhmaxi4\"])\n",
    "\n",
    "# removes input count reads less than 500 and standard deviation above 20\n",
    "filtered_df = df[(df['count_sequence_AVO4Exonhmaxi4'] >= 500) & (df['Input_STD'] <= 20) & (df['Category2'].isin([\"EEK\",\"EESNP\",\"EEMULTISNP\"]))]"
   ]
  },
  {
   "cell_type": "code",
   "execution_count": null,
   "metadata": {},
   "outputs": [
    {
     "name": "stderr",
     "output_type": "stream",
     "text": [
      "/tmp/ipykernel_1745069/2163807241.py:2: SettingWithCopyWarning: \n",
      "A value is trying to be set on a copy of a slice from a DataFrame.\n",
      "Try using .loc[row_indexer,col_indexer] = value instead\n",
      "\n",
      "See the caveats in the documentation: https://pandas.pydata.org/pandas-docs/stable/user_guide/indexing.html#returning-a-view-versus-a-copy\n",
      "  filtered_df['Name'] = filtered_df['ID'].apply(lambda x: '_'.join(x.split('_')[:3]))\n"
     ]
    }
   ],
   "source": [
    "### Make a dic matching each snp sequence with its ref\n",
    "filtered_df['Name'] = filtered_df['ID'].apply(lambda x: '_'.join(x.split('_')[:3]))\n",
    "\n",
    "df_no_snp = filtered_df[(filtered_df['Category2'] == \"EEK\")]\n",
    "df_snp = filtered_df[(filtered_df['Category2'] == \"EESNP\")]\n",
    "df_multisnp = filtered_df[(filtered_df['Category2'] == \"EEMULTISNP\")]\n",
    "\n",
    "list_snp = []\n",
    "for index,row in df_snp.iterrows():\n",
    "    #find sample without snp\n",
    "    matching_rows = df_no_snp.loc[df_no_snp['Name'] == row['Name']]\n",
    " \n",
    "    if matching_rows.empty: #row without snp has been cut off because of input standarad deviation or not enough reads\n",
    "        continue\n",
    "    \n",
    "    list_snp.append([row[\"ID\"],matching_rows[\"ID\"].iloc[0]])\n",
    "\n",
    "for index,row in df_multisnp.iterrows():\n",
    "    matching_rows = df_no_snp.loc[df_no_snp['Name'] == row['Name']]\n",
    "\n",
    "    if matching_rows.empty: #row without snp has been cut off because of input standarad deviation or not enough reads\n",
    "        continue\n",
    "    \n",
    "    list_snp.append([row[\"ID\"],matching_rows[\"ID\"].iloc[0]])\n",
    "\n",
    "df_tosave = pd.DataFrame(list_snp)\n",
    "\n",
    "df_tosave.to_csv(\"/home/mouren/Data/valid_exp/stat/seq_snp_ref_id.tsv\",sep=\"\\t\",header=False,index=False)"
   ]
  },
  {
   "cell_type": "code",
   "execution_count": 6,
   "metadata": {},
   "outputs": [
    {
     "name": "stderr",
     "output_type": "stream",
     "text": [
      "/tmp/ipykernel_1745069/3137204533.py:2: SettingWithCopyWarning: \n",
      "A value is trying to be set on a copy of a slice from a DataFrame.\n",
      "Try using .loc[row_indexer,col_indexer] = value instead\n",
      "\n",
      "See the caveats in the documentation: https://pandas.pydata.org/pandas-docs/stable/user_guide/indexing.html#returning-a-view-versus-a-copy\n",
      "  filtered_df['Name'] = filtered_df['ID'].apply(lambda x: '_'.join(x.split('_')[:3]))\n"
     ]
    }
   ],
   "source": [
    "### Make a dic matching each single snp sequence with its multi ref\n",
    "filtered_df['Name'] = filtered_df['ID'].apply(lambda x: '_'.join(x.split('_')[:3]))\n",
    "\n",
    "df_snp = filtered_df[(filtered_df['Category2'] == \"EESNP\")]\n",
    "df_multisnp = filtered_df[(filtered_df['Category2'] == \"EEMULTISNP\")]\n",
    "\n",
    "list_snp = []\n",
    "for index,row in df_snp.iterrows():\n",
    "    #find sample multi snp\n",
    "    matching_rows = df_multisnp.loc[df_multisnp['Name'] == row['Name']]\n",
    " \n",
    "    if matching_rows.empty: #row with multi snp don't exist or has been cut off because of input standarad deviation or not enough reads\n",
    "        continue\n",
    "    \n",
    "    list_snp.append([row[\"ID\"],matching_rows[\"ID\"].iloc[0]])\n",
    "\n",
    "df_tosave = pd.DataFrame(list_snp)\n",
    "df_tosave.to_csv(\"/home/mouren/Data/valid_exp/stat/seq_EESNP_MULTISEQ_id.tsv\",sep=\"\\t\",header=False,index=False)"
   ]
  }
 ],
 "metadata": {
  "kernelspec": {
   "display_name": "base",
   "language": "python",
   "name": "python3"
  },
  "language_info": {
   "codemirror_mode": {
    "name": "ipython",
    "version": 3
   },
   "file_extension": ".py",
   "mimetype": "text/x-python",
   "name": "python",
   "nbconvert_exporter": "python",
   "pygments_lexer": "ipython3",
   "version": "3.9.16"
  }
 },
 "nbformat": 4,
 "nbformat_minor": 2
}
