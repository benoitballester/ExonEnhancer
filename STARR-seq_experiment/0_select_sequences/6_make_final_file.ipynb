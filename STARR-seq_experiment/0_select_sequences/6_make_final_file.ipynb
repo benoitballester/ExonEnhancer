{
 "cells": [
  {
   "cell_type": "code",
   "execution_count": null,
   "metadata": {},
   "outputs": [],
   "source": [
    "import pandas as pd\n",
    "from pathlib import Path\n",
    "import numpy as np\n",
    "import re\n",
    "\n",
    "### Get list of seq ID \n",
    "file = \"ee_seq/K562_id\"\n",
    "k562 = []\n",
    "with open(file) as f:\n",
    "    for line in f:\n",
    "        k562.append(line.strip().split()[0])\n",
    "\n",
    "file = \"ee_seq/A549_id\"\n",
    "a549 = []\n",
    "with open(file) as f:\n",
    "    for line in f:\n",
    "        a549.append(line.strip().split()[0])\n",
    "\n",
    "file = \"ee_seq/GM12878_id\"\n",
    "gm = []\n",
    "with open(file) as f:\n",
    "    for line in f:\n",
    "        gm.append(line.strip().split()[0])"
   ]
  },
  {
   "cell_type": "code",
   "execution_count": 12,
   "metadata": {},
   "outputs": [],
   "source": [
    "#Exons sequences\n",
    "content = []\n",
    "\n",
    "with open(\"/home/mouren/Data/valid_exp_starr/list_raw_v3/K562_REF_sequences_raw.tsv\") as f:\n",
    "    for line in f:\n",
    "        tag = \"EE\"\n",
    "        if line.strip().split()[0] in k562:\n",
    "            tag = tag+\"K\"\n",
    "        if line.strip().split()[0] in a549:\n",
    "            tag = tag+\"A\"\n",
    "        if line.strip().split()[0] in gm:\n",
    "            tag = tag+\"G\"\n",
    "\n",
    "        name = \"_\".join((line.strip().split()[0]).split('_')[:3])+\"_\"+tag\n",
    "        content.append([tag,name,line.strip().split()[1],line.strip().split()[2],line.strip().split()[3],line.strip().split()[4],line.strip().split()[5]])\n",
    "\n",
    "with open(\"/home/mouren/Data/valid_exp_starr/list_raw_v3/A549_GM12878_REF_sequences_raw.tsv\") as f:\n",
    "    for line in f:\n",
    "        tag = \"EE\"\n",
    "        if line.strip().split()[0] in k562:\n",
    "            tag = tag+\"K\"\n",
    "        if line.strip().split()[0] in a549:\n",
    "            tag = tag+\"A\"\n",
    "        if line.strip().split()[0] in gm:\n",
    "            tag = tag+\"G\"\n",
    "\n",
    "        name = \"_\".join((line.strip().split()[0]).split('_')[:3])+\"_\"+tag\n",
    "        content.append([tag,name,line.strip().split()[1],line.strip().split()[2],line.strip().split()[3],line.strip().split()[4],line.strip().split()[5]])\n",
    "\n",
    "df = pd.DataFrame(content)\n",
    "df.to_csv(\"/home/mouren/Data/valid_exp_starr/list_raw_v3/allExons_REF_sequences.tsv\",sep=\"\\t\",header=False,index=False)"
   ]
  },
  {
   "cell_type": "code",
   "execution_count": 13,
   "metadata": {},
   "outputs": [],
   "source": [
    "#Control sequences\n",
    "content = []\n",
    "\n",
    "with open(\"/home/mouren/Data/valid_exp_starr/control/NegCtrl_1463_goodSize_NoAct_LowScoresJaspar_REF_sequences_raw.tsv\") as f:\n",
    "    for line in f:\n",
    "        name = \"_\".join((line.strip().split()[0]).split('_')[:3])+\"_CTRLEEN\"\n",
    "        content.append([\"CTRLEEN\",name,line.strip().split()[1],line.strip().split()[2],line.strip().split()[3],line.strip().split()[4],line.strip().split()[5]])\n",
    "\n",
    "with open(\"/home/mouren/Data/valid_exp_starr/control/PosCtrl_1463_goodSize_3_K562_A549_GM12878_NR_TF_min_REF_sequences_raw.tsv\") as f:\n",
    "    for line in f:\n",
    "        name = line.strip().split()[0]+\"_CTRLEEP\"\n",
    "        content.append([\"CTRLEEP\",name,line.strip().split()[1],line.strip().split()[2],line.strip().split()[3],line.strip().split()[4],line.strip().split()[5]])\n",
    "\n",
    "with open(\"/home/mouren/Data/valid_exp_starr/control/eprom/epromNeg_raw.csv\") as f:\n",
    "    first = True\n",
    "    for line in f:\n",
    "        if first:\n",
    "            first = False\n",
    "            continue\n",
    "        name = line.strip().split()[0]+\"-\"+line.strip().split()[1]+\"_CTRLEPN\"\n",
    "        content.append([\"CTRLEPN\",name,\"NA\",\"NA\",\"NA\",\"NA\",line.strip().split()[2]])\n",
    "\n",
    "with open(\"/home/mouren/Data/valid_exp_starr/control/eprom/epromPos_raw.csv\") as f:\n",
    "    first = True\n",
    "    for line in f:\n",
    "        if first:\n",
    "            first = False\n",
    "            continue\n",
    "        name = line.strip().split()[0]+\"-\"+line.strip().split()[1]+\"_CTRLEPP\"\n",
    "        content.append([\"CTRLEPP\",name,\"NA\",\"NA\",\"NA\",\"NA\",line.strip().split()[2]])\n",
    "\n",
    "df = pd.DataFrame(content)\n",
    "df.to_csv(\"/home/mouren/Data/valid_exp_starr/control/allCtrl_sequences.tsv\",sep=\"\\t\",header=False,index=False)"
   ]
  },
  {
   "cell_type": "code",
   "execution_count": 14,
   "metadata": {},
   "outputs": [],
   "source": [
    "### MAKE FINAL FILE\n",
    "rm STARR_AllSequences.tsv\n",
    "echo -e \"CATEGORY\\tID\\tCHR\\tSTART\\tEND\\tSTRAND\\tSEQUENCE\" > STARR_AllSequences.tsv\n",
    "cat /home/mouren/Data/valid_exp_starr/list_raw_v3/allExons_REF_sequences.tsv /home/mouren/Data/valid_exp_starr/list_raw_v3/K562_MUT_sequences.tsv /home/mouren/Data/valid_exp_starr/list_raw_v3/K562_MultiMUT_sequences.tsv /home/mouren/Data/valid_exp_starr/control/allCtrl_sequences.tsv >> STARR_AllSequences.tsv\n"
   ]
  }
 ],
 "metadata": {
  "kernelspec": {
   "display_name": "base",
   "language": "python",
   "name": "python3"
  },
  "language_info": {
   "codemirror_mode": {
    "name": "ipython",
    "version": 3
   },
   "file_extension": ".py",
   "mimetype": "text/x-python",
   "name": "python",
   "nbconvert_exporter": "python",
   "pygments_lexer": "ipython3",
   "version": "3.9.16"
  }
 },
 "nbformat": 4,
 "nbformat_minor": 2
}
