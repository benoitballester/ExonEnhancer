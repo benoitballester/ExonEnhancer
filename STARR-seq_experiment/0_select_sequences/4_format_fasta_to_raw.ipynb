{
 "cells": [
  {
   "cell_type": "code",
   "execution_count": null,
   "metadata": {},
   "outputs": [],
   "source": [
    "import pandas as pd\n",
    "from pathlib import Path\n",
    "\n",
    "#K562_REF_sequences.fasta A549_GM12878_REF_sequences.fasta PosCtrl_1463_goodSize_3_K562_A549_GM12878_NR_TF_min_REF_sequences_raw.tsv\n",
    "file = Path(\"/home/mouren/Data/valid_exp_starr/control/NegCtrl_1463_goodSize_NoAct_LowScoresJaspar_coords.fasta\")\n",
    "\n",
    "content = []\n",
    "with open(file) as f:\n",
    "    entry = []\n",
    "    seq = \"\"\n",
    "    for line in f:\n",
    "        if line.strip()[0] == \">\": #Informations of sequence\n",
    "\n",
    "            if entry: #list is not empty\n",
    "                entry.append(seq)\n",
    "                content.append(entry)\n",
    "                entry = []\n",
    "                seq = \"\"\n",
    "\n",
    "            #entry.append((line.strip().split()[0]).split(\"_\")[-1]) #For CtrlPos\n",
    "            tmp = (line.strip().split()[0]).split(\"_\")\n",
    "            entry.append(\"_\".join(tmp[4:11]))\n",
    "            entry.append(((line.strip().split()[1]).split(\":\")[0]).split('=')[1])\n",
    "            entry.append(int(((line.strip().split()[1]).split(\":\")[1]).split('-')[0]) - 1)\n",
    "            entry.append(int(((line.strip().split()[1]).split(\":\")[1]).split('-')[1]))\n",
    "            entry.append(line.strip().split()[4].split(\"=\")[1])\n",
    "        \n",
    "        else: #get sequence\n",
    "            seq = seq+str(line.strip())\n",
    "    \n",
    "    entry.append(seq)\n",
    "    content.append(entry)\n",
    "\n",
    "df = pd.DataFrame(content)\n",
    "df.to_csv(\"/home/mouren/Data/valid_exp_starr/control/NegCtrl_1463_goodSize_NoAct_LowScoresJaspar_REF_sequences_raw.tsv\",sep=\"\\t\",header=False,index=False)"
   ]
  }
 ],
 "metadata": {
  "kernelspec": {
   "display_name": "base",
   "language": "python",
   "name": "python3"
  },
  "language_info": {
   "codemirror_mode": {
    "name": "ipython",
    "version": 3
   },
   "file_extension": ".py",
   "mimetype": "text/x-python",
   "name": "python",
   "nbconvert_exporter": "python",
   "pygments_lexer": "ipython3",
   "version": "3.9.16"
  }
 },
 "nbformat": 4,
 "nbformat_minor": 2
}
