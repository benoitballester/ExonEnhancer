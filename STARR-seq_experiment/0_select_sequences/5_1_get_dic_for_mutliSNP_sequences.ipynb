{
 "cells": [
  {
   "cell_type": "code",
   "execution_count": null,
   "metadata": {},
   "outputs": [],
   "source": [
    "import pandas as pd\n",
    "from pathlib import Path\n",
    "import numpy as np\n",
    "import re\n",
    "\n",
    "### Get list of snp ID by fabian format \n",
    "file = \"gnomad/SNP_annot_allExons_fabian_gnomadV3_all.tsv\"\n",
    "dic_fabian_id = {}\n",
    "\n",
    "with open(file) as f:\n",
    "    for line in f:\n",
    "        dic_fabian_id[line.strip().split('\\t')[0]] = line.strip().split('\\t')[1]"
   ]
  },
  {
   "cell_type": "code",
   "execution_count": null,
   "metadata": {},
   "outputs": [],
   "source": [
    "file = Path(\"K562_REF_sequences_raw.tsv\")\n",
    "\n",
    "dic_gain = {}\n",
    "dic_loss= {}\n",
    "with open(file) as f:\n",
    "    for line in f:\n",
    "        start = int((line.strip().split()[2]))\n",
    "        end = int((line.strip().split()[3]))\n",
    "        name = line.strip().split()[0]\n",
    "        dic_gain[name] =0\n",
    "        dic_loss[name] =0\n",
    "\n",
    "        try:\n",
    "            df = pd.read_csv(\"/mnt/project/exonhancer/ZENODO_REPO/gnomAD_v3/1_compute_fabian/pipeline_exons/fabian_result/\"+name+\".vcf_fabian_bilan.tsv\", index_col=0, sep='\\t')\n",
    "            for column_name in df.columns:  \n",
    "                coord_fabian_tmp = (column_name.split(\":\")[1]).split(\">\")[0]\n",
    "                coord_fabian = [int(x) for x in re.findall(r'\\d+', coord_fabian_tmp)] \n",
    "                ref = [x for x in re.findall(r'[a-zA-Z]+', coord_fabian_tmp)][0]\n",
    "                alt = (column_name.split(\">\")[1]).split(\".\")[0]\n",
    "\n",
    "                if len(ref)>1 or len(alt)>1: #remove indel\n",
    "                    continue\n",
    " \n",
    "                ### Check if strong synonymous SNP\n",
    "                if int(coord_fabian[0]) > start and int(coord_fabian[0]) <= end: #Mutation can be in sequence #> start because start is not included\n",
    "                    try: #If not in the dictionnary it means it didn't pass the gnomAD filter \n",
    "                        if dic_fabian_id[column_name.split('.')[0]] == \"synonymous\": #Mutation is synonymous\n",
    "                            df[column_name] = df[column_name].astype(float)\n",
    "                            if any(df[column_name] > 0.66) :\n",
    "                                dic_gain[name] += 1\n",
    "                            if any(df[column_name] < -0.66): #Mutation is strong:\n",
    "                                dic_loss[name] += 1\n",
    "                                \n",
    "                    except KeyError:\n",
    "                        continue\n",
    "\n",
    "            if dic_gain[name] == 0 and dic_loss[name] == 0:\n",
    "                del dic_loss[name]\n",
    "                del dic_gain[name]\n",
    "                                        \n",
    "        except FileNotFoundError:\n",
    "            if dic_gain[name] == 0 and dic_loss[name] == 0:\n",
    "                del dic_loss[name]\n",
    "                del dic_gain[name]\n",
    "            continue\n",
    "\n",
    "content = []\n",
    "for key, value in dic_loss.items():\n",
    "    if value >= dic_gain[key]:\n",
    "        content.append([key,\"LOSS\"])\n",
    "    else:\n",
    "        content.append([key,\"GAIN\"])\n",
    "        \n",
    "df1 = pd.DataFrame(content)\n",
    "df_unique = df1.drop_duplicates()\n",
    "df_unique.to_csv(\"K562_Dic_SnpStrongType.tsv\",sep=\"\\t\",header=False,index=False)"
   ]
  }
 ],
 "metadata": {
  "kernelspec": {
   "display_name": "base",
   "language": "python",
   "name": "python3"
  },
  "language_info": {
   "codemirror_mode": {
    "name": "ipython",
    "version": 3
   },
   "file_extension": ".py",
   "mimetype": "text/x-python",
   "name": "python",
   "nbconvert_exporter": "python",
   "pygments_lexer": "ipython3",
   "version": "3.9.16"
  }
 },
 "nbformat": 4,
 "nbformat_minor": 2
}
