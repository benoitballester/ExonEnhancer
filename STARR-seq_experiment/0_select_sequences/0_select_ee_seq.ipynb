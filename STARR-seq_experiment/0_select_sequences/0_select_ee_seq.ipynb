{
 "cells": [
  {
   "cell_type": "code",
   "execution_count": null,
   "metadata": {},
   "outputs": [],
   "source": [
    "import pandas as pd\n",
    "from pathlib import Path\n",
    "import numpy as np\n",
    "\n",
    "content = []\n",
    "with open(\"EE_summary_hg38.tsv\") as f:\n",
    "    for line in f: \n",
    "        content.append(line.strip().split(\"\\t\"))\n",
    "\n",
    "df = pd.DataFrame(content)\n",
    "\n",
    "#Replace NA values \n",
    "df.replace('NA', \"0\", inplace=True)\n",
    "\n",
    "#make numeric values of interest and split values \n",
    "def convert_to_int(x):\n",
    "    return [int(value) for value in x]\n",
    "\n",
    "df[8] = df[8].str.split(',')\n",
    "df[9] = df[9].str.split(',').apply(convert_to_int)\n",
    "df[10] = df[10].str.split(',')\n",
    "df[11] = df[11].str.split(',').apply(convert_to_int)\n",
    "df[20] = df[20].str.split(',')\n",
    "df[21] = df[21].str.split(',').apply(convert_to_int)\n",
    "df[23] = df[23].str.split(',')\n",
    "df[24] = df[24].str.split(',').apply(convert_to_int)\n",
    "df[27] = df[27].str.split(',')\n",
    "df[28] = df[28].str.split(',').apply(convert_to_int)\n",
    "df[6] = df[6].astype(int)\n",
    "df[7] = df[7].astype(int)\n",
    "df[16] = df[16].astype(int)\n",
    "df[17] = df[17].str.replace(',', '.') #in python we need to use a dot for float numbers\n",
    "df[18] = df[18].str.replace(',', '.')\n",
    "df[19] = df[19].str.replace(',', '.')\n",
    "df[17] = df[17].astype(float)\n",
    "df[18] = df[18].astype(float)\n",
    "df[19] = df[19].astype(float)\n",
    "df[22] = df[22].astype(int)\n",
    "df[26] = df[26].astype(int)"
   ]
  },
  {
   "cell_type": "code",
   "execution_count": null,
   "metadata": {},
   "outputs": [],
   "source": [
    "#starr overlap\n",
    "dic_starr={}\n",
    "with open(\"/mnt/project/exonhancer/ZENODO_REPO/STARR-seq_catalog/overlap/hg38_ee.tsv\") as file:\n",
    "    for line in file:           \n",
    "        if line.strip().split()[3] not in dic_starr:\n",
    "            dic_starr[line.strip().split()[3]] = []\n",
    "        else:\n",
    "            cell = line.strip().split()[9].split(\".\")[1]\n",
    "            dic_starr[line.strip().split()[3]].append(cell)\n",
    "\n",
    "\n",
    "dic_starr_silent={}\n",
    "with open(\"/mnt/project/exonhancer/ZENODO_REPO/STARR-seq_catalog/overlap/hg38_ee_silent_peaks.tsv\") as file:\n",
    "    for line in file:           \n",
    "        if line.strip().split()[3] not in dic_starr_silent:\n",
    "            dic_starr_silent[line.strip().split()[3]] = []\n",
    "        else:\n",
    "            cell = line.strip().split()[9].split(\".\")[1]\n",
    "            dic_starr_silent[line.strip().split()[3]].append(cell)\n",
    "\n",
    "with open(\"EE_summary_hg38.tsv\") as file:\n",
    "    for line in file:           \n",
    "        if line.strip().split()[3] not in dic_starr:\n",
    "            dic_starr[line.strip().split()[3]] = []\n",
    "        if line.strip().split()[3] not in dic_starr_silent:\n",
    "            dic_starr_silent[line.strip().split()[3]] = []"
   ]
  },
  {
   "cell_type": "code",
   "execution_count": null,
   "metadata": {},
   "outputs": [],
   "source": [
    "#remap peaks / dnase / starrseq / size\n",
    "def val_peak_a549(row):\n",
    "    val = row[10].index(\"A-549\")\n",
    "    return row[11][val]\n",
    "\n",
    "def val_peak_gm(row):\n",
    "    val = row[10].index(\"GM12878\")\n",
    "    return row[11][val]"
   ]
  },
  {
   "cell_type": "code",
   "execution_count": null,
   "metadata": {},
   "outputs": [
    {
     "name": "stdout",
     "output_type": "stream",
     "text": [
      "2467\n"
     ]
    }
   ],
   "source": [
    "#All K-562\n",
    "df_k562_gold = df[df.apply(lambda row: ('K-562' in row[10]) and ('K-562' in row[20]) and (row[6] >= 130), axis=1)]\n",
    "k562_g = df_k562_gold.pop(3).to_list()\n",
    "\n",
    "df_k562_silver = df[df.apply(lambda row: ('K-562' in row[10]) and (len(dic_starr[row[3]]) > 0) and (row[6] >= 130) and ('K-562' not in dic_starr_silent[row[3]]), axis=1)]\n",
    "k562_s = []\n",
    "for index, row in df_k562_silver.iterrows():\n",
    "    val = row[10].index(\"K-562\")\n",
    "    if row[11][val] >= 3:\n",
    "        k562_s.append(row[3]) \n",
    "\n",
    "print(len(set(k562_g + k562_s)))"
   ]
  },
  {
   "cell_type": "code",
   "execution_count": 85,
   "metadata": {},
   "outputs": [],
   "source": [
    "k2000 = set(k562_g + k562_s)\n",
    "with open(\"/home/mouren/Data/valid_exp_starr/list_raw_v3/K562_id\", 'w') as file:\n",
    "    for item in k2000:\n",
    "        file.write(str(item) + '\\n')"
   ]
  },
  {
   "cell_type": "code",
   "execution_count": null,
   "metadata": {},
   "outputs": [
    {
     "name": "stdout",
     "output_type": "stream",
     "text": [
      "807\n"
     ]
    }
   ],
   "source": [
    "#All A-549\n",
    "df_a549_gold = df[df.apply(lambda row: ('A-549' in row[10]) and ('A-549' in row[20]) and (row[6] >= 130), axis=1)]\n",
    "a549_g = df_a549_gold.pop(3).to_list()\n",
    "\n",
    "df_a549_silver = df[df.apply(lambda row: ('A-549' in row[10]) and (len(dic_starr[row[3]]) > 0) and (row[6] >= 130) and ('A-549' not in dic_starr_silent[row[3]]), axis=1)]\n",
    "a549_s = []\n",
    "for index, row in df_a549_silver.iterrows():\n",
    "    val = row[10].index(\"A-549\")\n",
    "    if row[11][val] >= 3:\n",
    "        a549_s.append(row[3])\n",
    "\n",
    "print(len(set(a549_g + a549_s)))"
   ]
  },
  {
   "cell_type": "code",
   "execution_count": 87,
   "metadata": {},
   "outputs": [],
   "source": [
    "a = set(a549_g + a549_s)\n",
    "with open(\"/home/mouren/Data/valid_exp_starr/list_raw_v3/A549_id\", 'w') as file:\n",
    "    for item in a:\n",
    "        file.write(str(item) + '\\n')"
   ]
  },
  {
   "cell_type": "code",
   "execution_count": null,
   "metadata": {},
   "outputs": [
    {
     "name": "stdout",
     "output_type": "stream",
     "text": [
      "867\n"
     ]
    }
   ],
   "source": [
    "#All GM possible \n",
    "df_gm_gold = df[df.apply(lambda row: ('GM12878' in row[10]) and ('GM12878' in row[20]) and (row[6] >= 130), axis=1)]\n",
    "gm_g = df_gm_gold.pop(3).to_list()\n",
    "\n",
    "df_gm_silver = df[df.apply(lambda row: ('GM12878' in row[10]) and (len(dic_starr[row[3]]) > 0) and (row[6] >= 130) and ('GM12878' not in dic_starr_silent[row[3]]), axis=1)]\n",
    "gm_s = []\n",
    "for index, row in df_gm_silver.iterrows():\n",
    "    val = row[10].index(\"GM12878\")\n",
    "    if row[11][val] >= 3:\n",
    "        gm_s.append(row[3])\n",
    "\n",
    "print(len(set(gm_g + gm_s)))"
   ]
  },
  {
   "cell_type": "code",
   "execution_count": 90,
   "metadata": {},
   "outputs": [],
   "source": [
    "g = set(gm_g + gm_s)\n",
    "with open(\"/home/mouren/Data/valid_exp_starr/list_raw_v3/GM12878_id\", 'w') as file:\n",
    "    for item in g:\n",
    "        file.write(str(item) + '\\n')"
   ]
  },
  {
   "cell_type": "code",
   "execution_count": 95,
   "metadata": {},
   "outputs": [
    {
     "name": "stdout",
     "output_type": "stream",
     "text": [
      "3144\n"
     ]
    }
   ],
   "source": [
    "print(len(set(k562_g + k562_s + a549_g + a549_s + gm_g + gm_s)))"
   ]
  },
  {
   "cell_type": "code",
   "execution_count": 94,
   "metadata": {},
   "outputs": [
    {
     "name": "stdout",
     "output_type": "stream",
     "text": [
      "677\n"
     ]
    }
   ],
   "source": [
    "other = set(a549_g + a549_s + gm_g + gm_s)\n",
    "\n",
    "result = other - k2000  # This will print the elements that are in other but not in k2000\n",
    "print(len(result))\n",
    "with open(\"/home/mouren/Data/valid_exp_starr/list_raw_v3/A549_GM12878_Uniques_id\", 'w') as file:\n",
    "    for item in result:\n",
    "        file.write(str(item) + '\\n')"
   ]
  }
 ],
 "metadata": {
  "kernelspec": {
   "display_name": "Python 3.8.10 64-bit",
   "language": "python",
   "name": "python3"
  },
  "language_info": {
   "codemirror_mode": {
    "name": "ipython",
    "version": 3
   },
   "file_extension": ".py",
   "mimetype": "text/x-python",
   "name": "python",
   "nbconvert_exporter": "python",
   "pygments_lexer": "ipython3",
   "version": "3.9.16"
  },
  "orig_nbformat": 4,
  "vscode": {
   "interpreter": {
    "hash": "e7370f93d1d0cde622a1f8e1c04877d8463912d04d973331ad4851f04de6915a"
   }
  }
 },
 "nbformat": 4,
 "nbformat_minor": 2
}
