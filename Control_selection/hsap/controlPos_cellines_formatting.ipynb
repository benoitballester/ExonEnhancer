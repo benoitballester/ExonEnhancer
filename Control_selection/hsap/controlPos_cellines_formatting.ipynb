{
 "cells": [
  {
   "cell_type": "code",
   "execution_count": 17,
   "metadata": {},
   "outputs": [],
   "source": [
    "#import file\n",
    "import pandas as pd\n",
    "from pathlib import Path\n",
    "import sys\n",
    "\n",
    "# Define the file path\n",
    "file_path = \"/home/mouren/Data/exons_control/control_enhancer/control_enhD_NoCDS_TSS_exons_OVERLAP_CLEAN.tsv\"\n",
    "\n",
    "# Chunk size for processing\n",
    "chunk_size = 100000  # Experiment with different values based on your machine's memory\n",
    "\n",
    "# Initialize an empty list to store chunked DataFrames\n",
    "dfs = []\n",
    "\n",
    "# Process the file in chunks and append each chunk to the list\n",
    "for chunk in pd.read_csv(file_path, sep='\\t', chunksize=chunk_size):\n",
    "    dfs.append(chunk)\n",
    "\n",
    "# Concatenate all the chunks into a single DataFrame\n",
    "df = pd.concat(dfs)"
   ]
  },
  {
   "cell_type": "code",
   "execution_count": 18,
   "metadata": {},
   "outputs": [],
   "source": [
    "#group file \n",
    "\n",
    "# Extract the current header (existing column names)\n",
    "current_header = df.columns.tolist()\n",
    "\n",
    "# Set the header to numbers (0, 1, 2, ...)\n",
    "df.columns = range(df.shape[1])\n",
    "\n",
    "# Append the current header as the first row in the DataFrame\n",
    "df = pd.concat([pd.Series(current_header).to_frame().T, df], ignore_index=True)\n",
    "\n",
    "# Remove the first line (header as an entry row)\n",
    "df = df.iloc[1:]\n",
    "\n",
    "# Now, df contains the header as an entry row, and the headers are represented by numbers.\n",
    "grouped_df = df.groupby(3)\n"
   ]
  },
  {
   "cell_type": "code",
   "execution_count": 19,
   "metadata": {},
   "outputs": [
    {
     "name": "stdout",
     "output_type": "stream",
     "text": [
      "              0         1         2             3  \\\n",
      "1          chr1    819893    820227  EH38E1310170   \n",
      "2          chr1    819893    820227  EH38E1310170   \n",
      "3          chr1    819893    820227  EH38E1310170   \n",
      "4          chr1    819893    820227  EH38E1310170   \n",
      "5          chr1    819893    820227  EH38E1310170   \n",
      "...         ...       ...       ...           ...   \n",
      "79736708  chr22  50780383  50780539  EH38E2173424   \n",
      "79736709  chr22  50780383  50780539  EH38E2173424   \n",
      "79736710  chr22  50780383  50780539  EH38E2173424   \n",
      "79736711  chr22  50780383  50780539  EH38E2173424   \n",
      "79736712  chr22  50780383  50780539  EH38E2173424   \n",
      "\n",
      "                                        4  \n",
      "1               ENCSR175SZH.ZSCAN29.K-562  \n",
      "2                 ENCSR909HMT.ZEB1.HEK293  \n",
      "3               ENCSR163RYW.ZNF189.HEK293  \n",
      "4                 ENCSR417VWF.ZEB2.HEK293  \n",
      "5                  GSE49091.ERG.VCaP_ETOH  \n",
      "...                                   ...  \n",
      "79736708              GSE63484.JMJD1C.NB4  \n",
      "79736709   GSE124032.CEBPA.THP-1_EtOH_24h  \n",
      "79736710    GSE124032.CEBPA.THP-1_EtOH_8h  \n",
      "79736711  GSE124032.CEBPA.THP-1_1-25D_24h  \n",
      "79736712   GSE124032.CEBPA.THP-1_1-25D_8h  \n",
      "\n",
      "[79736712 rows x 5 columns]\n"
     ]
    }
   ],
   "source": [
    "print(df)"
   ]
  },
  {
   "cell_type": "code",
   "execution_count": 21,
   "metadata": {},
   "outputs": [],
   "source": [
    "#work on file \n",
    "new_content = []\n",
    "\n",
    "for group_name, group_df in grouped_df:\n",
    "    entry = []\n",
    "    first = True\n",
    "\n",
    "    cpt = 0\n",
    "    list_celllines= []\n",
    "    for index, row in group_df.iterrows():\n",
    "        if first:\n",
    "            entry.append(row[0])\n",
    "            entry.append(row[1])\n",
    "            entry.append(row[2]) \n",
    "            entry.append(row[3])\n",
    "            entry.append('0')\n",
    "            entry.append('.')\n",
    "            first = False\n",
    "\n",
    "        cpt += 1\n",
    "        tf = row[4]\n",
    "        name = tf.split(\".\")[2]\n",
    "        name_f = name.split(\"_\")[0]\n",
    "\n",
    "        if name_f not in list_celllines:\n",
    "            list_celllines.append(name_f)\n",
    "\n",
    "    entry.append(list_celllines)\n",
    "    entry.append(cpt)\n",
    "    new_content.append(entry)"
   ]
  },
  {
   "cell_type": "code",
   "execution_count": 22,
   "metadata": {},
   "outputs": [
    {
     "name": "stdout",
     "output_type": "stream",
     "text": [
      "            0          1          2             3  4  5  \\\n",
      "0       chr10    8286833    8287160  EH38E0005334  0  .   \n",
      "1       chr10  104835891  104836120  EH38E0007342  0  .   \n",
      "2       chr13   44521010   44521265  EH38E0014589  0  .   \n",
      "3       chr14   58362826   58363167  EH38E0017064  0  .   \n",
      "4       chr14   89568352   89568553  EH38E0017834  0  .   \n",
      "...       ...        ...        ...           ... .. ..   \n",
      "575215   chrY   22367498   22367828  EH38E2776428  0  .   \n",
      "575216   chrY   56831604   56831942  EH38E2776463  0  .   \n",
      "575217   chrY   56838999   56839348  EH38E2776482  0  .   \n",
      "575218   chrY   56842374   56842545  EH38E2776491  0  .   \n",
      "575219   chrY   56844431   56844674  EH38E2776496  0  .   \n",
      "\n",
      "                                                        6    7  \n",
      "0                                       [HEK293T, HEK293]    3  \n",
      "1       [VCaP, MDA-MB-453, prostate, breast, primary-p...   55  \n",
      "2       [Aska-SS, Loucy, HUVEC-C, MKN28, HAP1, RMG-I, ...   20  \n",
      "3       [HCT-116, RWPE-2, prostate, T-47D, HEK293, HeL...  550  \n",
      "4       [PC-9, Hep-G2, HEK293, pancreatic-progenitor, ...   10  \n",
      "...                                                   ...  ...  \n",
      "575215                [WA01, HS-SY-2, keratinocyte, VCaP]    5  \n",
      "575216  [Hep-G2, keratinocyte, HEK293T, HCC70, CD14, A...   28  \n",
      "575217  [MV4-11, 22Rv1, LNCaP-C4-2B, DOHH2, OCI-Ly1, T...   56  \n",
      "575218                  [U2OS, Mutu-1, HeLa, WA01, ZR751]    6  \n",
      "575219                                             [U2OS]    1  \n",
      "\n",
      "[575220 rows x 8 columns]\n"
     ]
    }
   ],
   "source": [
    "df2 = pd.DataFrame(new_content)\n",
    "print(df2)"
   ]
  },
  {
   "cell_type": "code",
   "execution_count": 24,
   "metadata": {},
   "outputs": [
    {
     "name": "stdout",
     "output_type": "stream",
     "text": [
      "            0          1          2             3  4  5  \\\n",
      "1       chr10  104835891  104836120  EH38E0007342  0  .   \n",
      "2       chr13   44521010   44521265  EH38E0014589  0  .   \n",
      "3       chr14   58362826   58363167  EH38E0017064  0  .   \n",
      "4       chr14   89568352   89568553  EH38E0017834  0  .   \n",
      "5       chr17   16181637   16181948  EH38E0022078  0  .   \n",
      "...       ...        ...        ...           ... .. ..   \n",
      "575211   chrY   21288957   21289231  EH38E2776395  0  .   \n",
      "575212   chrY   21641957   21642288  EH38E2776415  0  .   \n",
      "575214   chrY   22325337   22325678  EH38E2776426  0  .   \n",
      "575216   chrY   56831604   56831942  EH38E2776463  0  .   \n",
      "575217   chrY   56838999   56839348  EH38E2776482  0  .   \n",
      "\n",
      "                                                        6    7  \n",
      "1       VCaP,MDA-MB-453,prostate,breast,primary-prosta...   55  \n",
      "2       Aska-SS,Loucy,HUVEC-C,MKN28,HAP1,RMG-I,K-562,f...   20  \n",
      "3       HCT-116,RWPE-2,prostate,T-47D,HEK293,HeLa-S3,M...  550  \n",
      "4       PC-9,Hep-G2,HEK293,pancreatic-progenitor,TALL-...   10  \n",
      "5       VCaP,prostate,prostate-cancer,LNCaP,LAPC-4,LNC...  234  \n",
      "...                                                   ...  ...  \n",
      "575211  MV4-11,GM15850,REC-1,macrophage,DC,GM12891,CD1...   13  \n",
      "575212  primary-prostate-cancer,LNCaP,LNCaP-clone-FGC,...  119  \n",
      "575214                                prostate,LNCaP,VCaP   10  \n",
      "575216  Hep-G2,keratinocyte,HEK293T,HCC70,CD14,AML,IMR...   28  \n",
      "575217  MV4-11,22Rv1,LNCaP-C4-2B,DOHH2,OCI-Ly1,T47D-A1...   56  \n",
      "\n",
      "[484756 rows x 8 columns]\n"
     ]
    },
    {
     "name": "stderr",
     "output_type": "stream",
     "text": [
      "/tmp/ipykernel_1178320/3649067210.py:2: SettingWithCopyWarning: \n",
      "A value is trying to be set on a copy of a slice from a DataFrame.\n",
      "Try using .loc[row_indexer,col_indexer] = value instead\n",
      "\n",
      "See the caveats in the documentation: https://pandas.pydata.org/pandas-docs/stable/user_guide/indexing.html#returning-a-view-versus-a-copy\n",
      "  df3[6] = df3[6].apply(lambda x: ','.join(x))\n"
     ]
    }
   ],
   "source": [
    "df3 = df2[df2.iloc[:, 7] >= 10]\n",
    "df3[6] = df3[6].apply(lambda x: ','.join(x))\n",
    "print(df3)"
   ]
  },
  {
   "cell_type": "code",
   "execution_count": 26,
   "metadata": {},
   "outputs": [],
   "source": [
    "df3.to_csv(\"/home/mouren/Data/exons_control/control_enhancer/control_enhD_NoCDS_TSS_exons_10TFmin_CellLines.tsv\",sep=\"\\t\", header=False, index=False)"
   ]
  }
 ],
 "metadata": {
  "kernelspec": {
   "display_name": "Python 3",
   "language": "python",
   "name": "python3"
  },
  "language_info": {
   "codemirror_mode": {
    "name": "ipython",
    "version": 3
   },
   "file_extension": ".py",
   "mimetype": "text/x-python",
   "name": "python",
   "nbconvert_exporter": "python",
   "pygments_lexer": "ipython3",
   "version": "3.8.10"
  },
  "orig_nbformat": 4,
  "vscode": {
   "interpreter": {
    "hash": "e7370f93d1d0cde622a1f8e1c04877d8463912d04d973331ad4851f04de6915a"
   }
  }
 },
 "nbformat": 4,
 "nbformat_minor": 2
}
