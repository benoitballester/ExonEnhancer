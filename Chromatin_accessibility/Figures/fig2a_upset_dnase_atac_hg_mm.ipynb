{
 "cells": [
  {
   "cell_type": "code",
   "execution_count": null,
   "metadata": {},
   "outputs": [],
   "source": [
    "### Packages and data \n",
    "import upsetplot as ups\n",
    "from pathlib import Path\n",
    "import pandas as pd\n",
    "import copy\n",
    "import matplotlib \n",
    "import matplotlib.pyplot as plt\n",
    "matplotlib.rcParams['pdf.fonttype'] = 42\n",
    "\n",
    "### EE data\n",
    "#DNAse and ATAC overlap values were obtained from the EE_summary files \n",
    "\n",
    "## HG\n",
    "dic={\"DNAse ENCODE\":[],\"DNAse ChipAtlas\":[],\"ATAC ChipAtlas\":[]}\n",
    "with open(\"/home/mouren/Data/final_files_tokeep/final_catalogs/robust_catalog_hsap.tsv\") as file:\n",
    "    for line in file:           \n",
    "        if line.strip().split()[20] != \"NA\":\n",
    "            dic[\"DNAse ENCODE\"].append(True)\n",
    "        else:\n",
    "            dic[\"DNAse ENCODE\"].append(False)\n",
    "\n",
    "        if line.strip().split()[23] != \"NA\":\n",
    "            dic[\"DNAse ChipAtlas\"].append(True)\n",
    "        else:\n",
    "            dic[\"DNAse ChipAtlas\"].append(False)\n",
    "\n",
    "        if line.strip().split()[27] != \"NA\":\n",
    "            dic[\"ATAC ChipAtlas\"].append(True)\n",
    "        else:\n",
    "            dic[\"ATAC ChipAtlas\"].append(False)\n",
    "\n",
    "df = pd.DataFrame(dic)\n",
    "\n",
    "## MM\n",
    "dic_mm={\"DNAse ENCODE\":[],\"DNAse ChipAtlas\":[],\"ATAC ChipAtlas\":[]}\n",
    "with open(\"/home/mouren/Data/final_files_tokeep/other_species/robust_catalog_mm39.tsv\") as file:\n",
    "    for line in file:           \n",
    "        if line.strip().split()[20] != \"NA\":\n",
    "            dic_mm[\"DNAse ENCODE\"].append(True)\n",
    "        else:\n",
    "            dic_mm[\"DNAse ENCODE\"].append(False)\n",
    "\n",
    "        if line.strip().split()[23] != \"NA\":\n",
    "            dic_mm[\"DNAse ChipAtlas\"].append(True)\n",
    "        else:\n",
    "            dic_mm[\"DNAse ChipAtlas\"].append(False)\n",
    "\n",
    "        if line.strip().split()[27] != \"NA\":\n",
    "            dic_mm[\"ATAC ChipAtlas\"].append(True)\n",
    "        else:\n",
    "            dic_mm[\"ATAC ChipAtlas\"].append(False)\n",
    "\n",
    "df_mm = pd.DataFrame(dic_mm)\n",
    "\n",
    "custom_order = [ \"ATAC ChipAtlas\",\"DNAse ChipAtlas\",\"DNAse ENCODE\"]\n",
    "df_mm = df_mm[custom_order]  # Reorder the columns"
   ]
  },
  {
   "cell_type": "code",
   "execution_count": null,
   "metadata": {},
   "outputs": [],
   "source": [
    "ups.UpSet(ups.from_indicators(lambda el: el.select_dtypes(bool),data=df),show_counts=True).plot()\n",
    "plt.savefig(\"/home/mouren/Images/tls1/supplementary_figures/supp_fig2/dnase_atac_upset/dnase_atac_upset_hg.pdf\", format=\"pdf\", bbox_inches=\"tight\", dpi=450)\n",
    "plt.savefig(\"/home/mouren/Images/tls1/supplementary_figures/supp_fig2/dnase_atac_upset/dnase_atac_upset_hg.png\", format=\"png\", bbox_inches=\"tight\", dpi=450)\n",
    "\n",
    "upset_data = ups.from_indicators(lambda el: el.select_dtypes(bool), data=df_mm)\n",
    "upset_data = upset_data.reorder_levels(custom_order)  # Force the row order\n",
    "ups.UpSet(upset_data,show_counts=True,sort_categories_by=None).plot()\n",
    "plt.gca().set_ylim(0, 8300)\n",
    "plt.savefig(\"/home/mouren/Images/tls1/supplementary_figures/supp_fig2/dnase_atac_upset/dnase_atac_upset_mm.pdf\", format=\"pdf\", bbox_inches=\"tight\", dpi=450)\n",
    "plt.savefig(\"/home/mouren/Images/tls1/supplementary_figures/supp_fig2/dnase_atac_upset/dnase_atac_upset_mm.png\", format=\"png\", bbox_inches=\"tight\", dpi=450)"
   ]
  }
 ],
 "metadata": {
  "kernelspec": {
   "display_name": "base",
   "language": "python",
   "name": "python3"
  },
  "language_info": {
   "codemirror_mode": {
    "name": "ipython",
    "version": 3
   },
   "file_extension": ".py",
   "mimetype": "text/x-python",
   "name": "python",
   "nbconvert_exporter": "python",
   "pygments_lexer": "ipython3",
   "version": "3.9.16"
  }
 },
 "nbformat": 4,
 "nbformat_minor": 2
}
